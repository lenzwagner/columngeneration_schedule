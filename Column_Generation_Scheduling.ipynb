{
 "cells": [
  {
   "cell_type": "markdown",
   "metadata": {},
   "source": [
    "# Column Generation: Physician Scheduling"
   ]
  },
  {
   "cell_type": "markdown",
   "metadata": {},
   "source": [
    "#### Libraries"
   ]
  },
  {
   "cell_type": "code",
   "execution_count": 7,
   "metadata": {},
   "outputs": [],
   "source": [
    "from gurobipy import *\n",
    "import gurobipy as gu\n",
    "import pandas as pd\n",
    "import numpy as np\n",
    "import os\n",
    "import time\n",
    "import random\n",
    "import plotly.io as pio"
   ]
  },
  {
   "cell_type": "markdown",
   "metadata": {},
   "source": [
    "#### Define Sets and create Pandas DataFrame\n"
   ]
  },
  {
   "cell_type": "code",
   "execution_count": 10,
   "metadata": {},
   "outputs": [],
   "source": [
    "# Set of indices\n",
    "I, T, K= [1, 2, 3], [1, 2, 3, 4, 5, 6, 7], [1, 2, 3]\n",
    "\n",
    "# Create Dataframes\n",
    "data = pd.DataFrame({\n",
    "    'I': I + [np.nan] * (max(len(I), len(T), len(K)) - len(I)),\n",
    "    'T': T + [np.nan] * (max(len(I), len(T), len(K)) - len(T)),\n",
    "    'K': K + [np.nan] * (max(len(I), len(T), len(K)) - len(K))\n",
    "})"
   ]
  },
  {
   "cell_type": "markdown",
   "metadata": {},
   "source": [
    "#### Define function to generate the individual $\\alpha_{it}$'s\n",
    "\n"
   ]
  },
  {
   "cell_type": "code",
   "execution_count": 3,
   "metadata": {},
   "outputs": [],
   "source": [
    "def gen_alpha(seed):\n",
    "    random.seed(seed)\n",
    "    alpha = {(i, t): round(random.random(), 3) for i in I for t in T}\n",
    "    return alpha"
   ]
  },
  {
   "cell_type": "markdown",
   "metadata": {},
   "source": [
    "#### Set demand and parameter"
   ]
  },
  {
   "cell_type": "code",
   "execution_count": 11,
   "metadata": {},
   "outputs": [],
   "source": [
    "# Demand Dict\n",
    "demand_dict = {(1, 1): 2, (1, 2): 1, (1, 3): 0, (2, 1): 1, (2, 2): 2, (2, 3): 0, (3, 1): 1, (3, 2): 1, (3, 3): 1,\n",
    "               (4, 1): 1, (4, 2): 2, (4, 3): 0, (5, 1): 2, (5, 2): 0, (5, 3): 1, (6, 1): 1, (6, 2): 1, (6, 3): 1,\n",
    "               (7, 1): 0, (7, 2): 3, (7, 3): 0}\n",
    "\n",
    "# Parameter\n",
    "time_Limit = 3600\n",
    "max_itr = 10\n",
    "seed = 123\n",
    "output_len = 98\n",
    "mue = 1e-4"
   ]
  },
  {
   "cell_type": "markdown",
   "metadata": {},
   "source": [
    "## Build compact model"
   ]
  },
  {
   "cell_type": "code",
   "execution_count": 12,
   "metadata": {},
   "outputs": [],
   "source": [
    "class Problem:\n",
    "    def __init__(self, dfData, DemandDF, alpha):\n",
    "        self.I = dfData['I'].dropna().astype(int).unique().tolist()\n",
    "        self.T = dfData['T'].dropna().astype(int).unique().tolist()\n",
    "        self.K = dfData['K'].dropna().astype(int).unique().tolist()\n",
    "        self.demand = DemandDF\n",
    "        self.Max = 5\n",
    "        self.Min = 2\n",
    "        self.M = 1e6\n",
    "        self.alpha = alpha\n",
    "        self.model = gu.Model(\"Problems\")\n",
    "\n",
    "    def buildModel(self):\n",
    "        self.t0 = time.time()\n",
    "        self.generateVariables()\n",
    "        self.generateConstraints()\n",
    "        self.generateObjective()\n",
    "        self.model.update()\n",
    "\n",
    "    def generateVariables(self):\n",
    "        self.slack = self.model.addVars(self.T, self.K, vtype=gu.GRB.CONTINUOUS, lb=0, name='slack')\n",
    "        self.motivation = self.model.addVars(self.I, self.T, self.K, vtype=gu.GRB.CONTINUOUS, lb=0, ub=1, name='motivation')\n",
    "        self.x = self.model.addVars(self.I, self.T, self.K, vtype=gu.GRB.BINARY, name='x')\n",
    "        self.y = self.model.addVars(self.I, self.T, vtype=gu.GRB.BINARY, name='y')\n",
    "        self.mood = self.model.addVars(self.I, self.T, vtype=gu.GRB.CONTINUOUS, lb=0, name='mood')\n",
    "\n",
    "    def generateConstraints(self):\n",
    "        for t in self.T:\n",
    "            for s in self.K:\n",
    "                self.model.addConstr(\n",
    "                    gu.quicksum(self.motivation[i, t, s,] for i in self.I) + self.slack[t, s] >= self.demand[t, s])\n",
    "        for i in self.I:\n",
    "            for t in self.T:\n",
    "                self.model.addLConstr(self.mood[i, t] == 1 - self.alpha[i, t])\n",
    "                self.model.addLConstr(quicksum(self.x[i, t, s] for s in self.K) == self.y[i, t])\n",
    "                self.model.addLConstr(gu.quicksum(self.x[i, t, s] for s in self.K) <= 1)\n",
    "                for s in self.K:\n",
    "                    self.model.addLConstr(self.motivation[i, t, s] >= self.mood[i, t] - self.M * (1 - self.x[i, t, s]))\n",
    "                    self.model.addLConstr(self.motivation[i, t, s] <= self.mood[i, t] + self.M * (1 - self.x[i, t, s]))\n",
    "                    self.model.addLConstr(self.motivation[i, t, s] <= self.x[i, t, s])\n",
    "            for t in range(1, len(self.T) - self.Max + 1):\n",
    "                self.model.addLConstr(gu.quicksum(self.y[i, u] for u in range(t, t + 1 + self.Max)) <= self.Max)\n",
    "            self.model.addLConstr(gu.quicksum(self.y[i, t] for t in self.T) >= self.Min)\n",
    "\n",
    "    def generateObjective(self):\n",
    "        self.model.setObjective(gu.quicksum(self.slack[t, s] for t in self.T for s in self.K), sense=gu.GRB.MINIMIZE)\n",
    "\n",
    "    def solveModel(self, timeLimit):\n",
    "        try:\n",
    "            self.model.setParam('TimeLimit', timeLimit)\n",
    "            self.model.Params.IntegralityFocus = 1\n",
    "            self.model.Params.FeasibilityTol = 1e-9\n",
    "            self.model.Params.BarConvTol = 0.0\n",
    "            self.model.Params.MIPGap = 1e-2\n",
    "            self.model.optimize()\n",
    "            self.model.Params.LogToConsole = 0\n",
    "            self.model.Params.LogFile = \"./log_file_compact.log\"\n",
    "            self.t1 = time.time()\n",
    "        except gu.GurobiError as e:\n",
    "            print('Error code ' + str(e.errno) + ': ' + str(e))\n",
    "\n",
    "    def getTime(self):\n",
    "        self.time_total = self.t1 - self.t0\n",
    "        return self.time_total\n",
    "\n",
    "    def get_final_values(self):\n",
    "        dict = self.model.getAttr(\"X\", self.x)\n",
    "        liste = list(dict.values())\n",
    "        final = [0.0 if x == -0.0 else x for x in liste]\n",
    "        return final\n",
    "\n",
    "    def get_final_values_dict(self):\n",
    "        return self.model.getAttr(\"X\", self.x)"
   ]
  },
  {
   "cell_type": "markdown",
   "metadata": {},
   "source": [
    "#### Build and solve compact model"
   ]
  },
  {
   "cell_type": "code",
   "execution_count": 13,
   "metadata": {},
   "outputs": [
    {
     "name": "stdout",
     "output_type": "stream",
     "text": [
      "Set parameter Username\n",
      "Academic license - for non-commercial use only - expires 2025-01-02\n",
      "Set parameter TimeLimit to value 3600\n",
      "Set parameter IntegralityFocus to value 1\n",
      "Set parameter FeasibilityTol to value 1e-09\n",
      "Set parameter BarConvTol to value 0\n",
      "Set parameter MIPGap to value 0.01\n",
      "Gurobi Optimizer version 11.0.0 build v11.0.0rc2 (win64 - Windows 10.0 (19045.2))\n",
      "\n",
      "CPU model: 13th Gen Intel(R) Core(TM) i7-1355U, instruction set [SSE2|AVX|AVX2]\n",
      "Thread count: 10 physical cores, 12 logical processors, using up to 12 threads\n",
      "\n",
      "Optimize a model with 282 rows, 189 columns and 813 nonzeros\n",
      "Model fingerprint: 0x1a60771f\n",
      "Variable types: 105 continuous, 84 integer (84 binary)\n",
      "Coefficient statistics:\n",
      "  Matrix range     [1e+00, 1e+06]\n",
      "  Objective range  [1e+00, 1e+00]\n",
      "  Bounds range     [1e+00, 1e+00]\n",
      "  RHS range        [9e-02, 1e+06]\n",
      "Found heuristic solution: objective 4.200000e+10\n",
      "Presolve removed 243 rows and 120 columns\n",
      "Presolve time: 0.00s\n",
      "Presolved: 39 rows, 69 columns, 159 nonzeros\n",
      "Found heuristic solution: objective 16.0199991\n",
      "Variable types: 12 continuous, 57 integer (57 binary)\n"
     ]
    },
    {
     "name": "stdout",
     "output_type": "stream",
     "text": [
      "\n",
      "Root relaxation: objective 7.899998e+00, 43 iterations, 0.00 seconds (0.00 work units)\n",
      "\n",
      "    Nodes    |    Current Node    |     Objective Bounds      |     Work\n",
      " Expl Unexpl |  Obj  Depth IntInf | Incumbent    BestBd   Gap | It/Node Time\n",
      "\n",
      "     0     0    7.90000    0    7   16.02000    7.90000  50.7%     -    0s\n",
      "H    0     0                       8.0799985    7.90000  2.23%     -    0s\n",
      "H    0     0                       7.8999982    7.90000  0.00%     -    0s\n",
      "     0     0    7.90000    0    7    7.90000    7.90000  0.00%     -    0s\n",
      "\n",
      "Explored 1 nodes (43 simplex iterations) in 0.05 seconds (0.00 work units)\n",
      "Thread count was 12 (of 12 available processors)\n",
      "\n",
      "Solution count 4: 7.9 8.08 16.02 4.2e+10 \n",
      "\n",
      "Optimal solution found (tolerance 1.00e-02)\n",
      "Best objective 7.900000000000e+00, best bound 7.899998200000e+00, gap 0.0000%\n"
     ]
    }
   ],
   "source": [
    "problem = Problem(data, demand_dict, gen_alpha(seed))\n",
    "problem.buildModel()\n",
    "problem.solveModel(time_Limit)"
   ]
  },
  {
   "cell_type": "markdown",
   "metadata": {},
   "source": [
    "#### Calculate objective function value and store model runtime"
   ]
  },
  {
   "cell_type": "code",
   "execution_count": 15,
   "metadata": {},
   "outputs": [
    {
     "name": "stdout",
     "output_type": "stream",
     "text": [
      "7.9\n"
     ]
    }
   ],
   "source": [
    "obj_val_problem = round(problem.model.objval, 3)\n",
    "time_problem = round(problem.getTime(), 4)\n",
    "vals_prob = problem.get_final_values()"
   ]
  },
  {
   "cell_type": "markdown",
   "metadata": {},
   "source": [
    "## Column Generation"
   ]
  },
  {
   "cell_type": "markdown",
   "metadata": {},
   "source": [
    "#### Column generation prerequisites"
   ]
  },
  {
   "cell_type": "code",
   "execution_count": 27,
   "metadata": {},
   "outputs": [],
   "source": [
    "# Prerequisites\n",
    "modelImprovable = True\n",
    "t0 = time.time()\n",
    "itr = 0\n",
    "last_itr = 0\n",
    "\n",
    "# Create empty results lists\n",
    "objValHistSP = []\n",
    "timeHist = []\n",
    "objValHistRMP = []\n",
    "avg_rc_hist = []\n",
    "avg_sp_time = []\n",
    "gap_rc_hist = []\n",
    "\n",
    "Iter_schedules = {}\n",
    "for index in I:\n",
    "    Iter_schedules[f\"Nurse_{index}\"] = []"
   ]
  },
  {
   "cell_type": "markdown",
   "metadata": {},
   "source": [
    "### Define Master Problem\n",
    "\n",
    "Used to cordinate the individual subproblems"
   ]
  },
  {
   "cell_type": "code",
   "execution_count": 19,
   "metadata": {},
   "outputs": [],
   "source": [
    "class MasterProblem:\n",
    "    def __init__(self, df, Demand, max_iteration, current_iteration, last ,nr):\n",
    "        self.iteration = current_iteration\n",
    "        self.max_iteration = max_iteration\n",
    "        self.nurses = df['I'].dropna().astype(int).unique().tolist()\n",
    "        self.days = df['T'].dropna().astype(int).unique().tolist()\n",
    "        self.shifts = df['K'].dropna().astype(int).unique().tolist()\n",
    "        self._current_iteration = current_iteration\n",
    "        self.roster = [i for i in range(1, self.max_iteration + 2)]\n",
    "        self.rosterinitial = [i for i in range(1, 2)]\n",
    "        self.demand = Demand\n",
    "        self.model = gu.Model(\"MasterProblem\")\n",
    "        self.cons_demand = {}\n",
    "        self.newvar = {}\n",
    "        self.last_itr = last\n",
    "        self.max_itr = max_iteration\n",
    "        self.cons_lmbda = {}\n",
    "        self.output_len = nr\n",
    "\n",
    "    def buildModel(self):\n",
    "        self.generateVariables()\n",
    "        self.generateConstraints()\n",
    "        self.model.update()\n",
    "        self.generateObjective()\n",
    "        self.model.update()\n",
    "\n",
    "    def generateVariables(self):\n",
    "        self.slack = self.model.addVars(self.days, self.shifts, vtype=gu.GRB.CONTINUOUS, lb=0, name='slack')\n",
    "        self.motivation_i = self.model.addVars(self.nurses, self.days, self.shifts, self.roster,\n",
    "                                               vtype=gu.GRB.CONTINUOUS, lb=0, ub=1, name='motivation_i')\n",
    "        self.lmbda = self.model.addVars(self.nurses, self.roster, vtype=gu.GRB.BINARY, lb=0, name='lmbda')\n",
    "\n",
    "    def generateConstraints(self):\n",
    "        for i in self.nurses:\n",
    "            self.cons_lmbda[i] = self.model.addLConstr(1 == gu.quicksum(self.lmbda[i, r] for r in self.rosterinitial), name = \"lmb(\"+str(i)+\")\")\n",
    "        for t in self.days:\n",
    "            for s in self.shifts:\n",
    "                self.cons_demand[t, s] = self.model.addConstr(\n",
    "                    gu.quicksum(self.motivation_i[i, t, s, r]*self.lmbda[i, r] for i in self.nurses for r in self.rosterinitial) +\n",
    "                    self.slack[t, s] >= self.demand[t, s], \"demand(\"+str(t)+\",\"+str(s)+\")\")\n",
    "        return self.cons_lmbda, self.cons_demand\n",
    "\n",
    "    def generateObjective(self):\n",
    "        self.model.setObjective(gu.quicksum(self.slack[t, s] for t in self.days for s in self.shifts),\n",
    "                                sense=gu.GRB.MINIMIZE)\n",
    "\n",
    "    def getDuals_i(self):\n",
    "        Pi_cons_lmbda = self.model.getAttr(\"Pi\", self.cons_lmbda)\n",
    "        return Pi_cons_lmbda\n",
    "\n",
    "    def getDuals_ts(self):\n",
    "        Pi_cons_demand = self.model.getAttr(\"QCPi\", self.cons_demand)\n",
    "        return Pi_cons_demand\n",
    "\n",
    "    def updateModel(self):\n",
    "        self.model.update()\n",
    "\n",
    "    def setStartSolution(self):\n",
    "        for i in self.nurses:\n",
    "            for t in self.days:\n",
    "                for s in self.shifts:\n",
    "                    self.model.addConstr(0 == self.motivation_i[i ,t, s, 1])\n",
    "\n",
    "    def addColumn(self, index, itr, schedule):\n",
    "        self.nurseIndex = index\n",
    "        self.rosterIndex = itr + 1\n",
    "        for t in self.days:\n",
    "            for s in self.shifts:\n",
    "                qexpr = self.model.getQCRow(self.cons_demand[t, s])\n",
    "                qexpr.add(schedule[self.nurseIndex, t, s, self.rosterIndex] * self.lmbda[self.nurseIndex, self.rosterIndex], 1)\n",
    "                rhs = self.cons_demand[t, s].getAttr('QCRHS')\n",
    "                sense = self.cons_demand[t, s].getAttr('QCSense')\n",
    "                name = self.cons_demand[t, s].getAttr('QCName')\n",
    "                newcon = self.model.addQConstr(qexpr, sense, rhs, name)\n",
    "                self.model.remove(self.cons_demand[t, s])\n",
    "                self.cons_demand[t, s] = newcon\n",
    "        self.model.update()\n",
    "\n",
    "    def addLambda(self, index, itr):\n",
    "        self.nurseIndex = index\n",
    "        self.rosterIndex = itr + 1\n",
    "        self.newlmbcoef = 1.0\n",
    "        current_lmb_cons = self.cons_lmbda[self.nurseIndex]\n",
    "        expr = self.model.getRow(current_lmb_cons)\n",
    "        new_lmbcoef = self.newlmbcoef\n",
    "        expr.add(self.lmbda[self.nurseIndex, self.rosterIndex], new_lmbcoef)\n",
    "        rhs_lmb = current_lmb_cons.getAttr('RHS')\n",
    "        sense_lmb = current_lmb_cons.getAttr('Sense')\n",
    "        name_lmb = current_lmb_cons.getAttr('ConstrName')\n",
    "        newconlmb = self.model.addLConstr(expr, sense_lmb, rhs_lmb, name_lmb)\n",
    "        self.model.remove(current_lmb_cons)\n",
    "        self.cons_lmbda[self.nurseIndex] = newconlmb\n",
    "\n",
    "    def finalSolve(self, timeLimit):\n",
    "        try:\n",
    "            self.model.setParam('TimeLimit', timeLimit)\n",
    "            self.model.Params.IntegralityFocus = 1\n",
    "            self.model.Params.FeasibilityTol = 1e-9\n",
    "            self.model.Params.BarConvTol = 0.0\n",
    "            self.model.Params.MIPGap = 1e-2\n",
    "            self.model.Params.OutputFlag = 1\n",
    "            self.model.setAttr(\"vType\", self.lmbda, gu.GRB.BINARY)\n",
    "            self.model.update()\n",
    "            self.model.optimize()\n",
    "            if self.model.status == GRB.OPTIMAL:\n",
    "                print(\"*\" * (self.output_len + 2))\n",
    "                print(\"*{:^{output_len}}*\".format(\"***** Optimal solution found *****\", output_len=self.output_len))\n",
    "                print(\"*{:^{output_len}}*\".format(\"\", output_len=self.output_len))\n",
    "            else:\n",
    "                print(\"*\" * (self.output_len + 2))\n",
    "                print(\"*{:^{output_len}}*\".format(\"***** No optimal solution found *****\", output_len=self.output_len))\n",
    "                print(\"*{:^{output_len}}*\".format(\"\", output_len=self.output_len))\n",
    "        except gu.GurobiError as e:\n",
    "            print('Error code ' + str(e.errno) + ': ' + str(e))\n",
    "\n",
    "    def solveModel(self, timeLimit):\n",
    "        try:\n",
    "            self.model.setParam('TimeLimit', timeLimit)\n",
    "            self.model.Params.QCPDual = 1\n",
    "            self.model.Params.OutputFlag = 0\n",
    "            self.model.Params.IntegralityFocus = 1\n",
    "            self.model.Params.FeasibilityTol = 1e-9\n",
    "            self.model.Params.BarConvTol = 0.0\n",
    "            self.model.Params.MIPGap = 1e-2\n",
    "            self.model.optimize()\n",
    "        except gu.GurobiError as e:\n",
    "            print('Error code ' + str(e.errno) + ': ' + str(e))\n",
    "\n",
    "    def solveRelaxModel(self):\n",
    "        try:\n",
    "            self.model.Params.QCPDual = 1\n",
    "            for v in self.model.getVars():\n",
    "                v.setAttr('vtype', 'C')\n",
    "            self.model.optimize()\n",
    "        except gu.GurobiError as e:\n",
    "            print('Error code ' + str(e.errno) + ': ' + str(e))"
   ]
  },
  {
   "cell_type": "markdown",
   "metadata": {},
   "source": [
    "### Define Subproblems\n"
   ]
  },
  {
   "cell_type": "code",
   "execution_count": 20,
   "metadata": {},
   "outputs": [],
   "source": [
    "class Subproblem:\n",
    "    def __init__(self, duals_i, duals_ts, df, i, BigM, iteration, alpha):\n",
    "        itr = iteration + 1\n",
    "        self.days = df['T'].dropna().astype(int).unique().tolist()\n",
    "        self.shifts = df['K'].dropna().astype(int).unique().tolist()\n",
    "        self.duals_i = duals_i\n",
    "        self.duals_ts = duals_ts\n",
    "        self.Max = 5\n",
    "        self.Min = 2\n",
    "        self.M = BigM\n",
    "        self.alpha = alpha\n",
    "        self.model = gu.Model(\"Subproblem\")\n",
    "        self.index = i\n",
    "        self.itr = itr\n",
    "\n",
    "    def buildModel(self):\n",
    "        self.generateVariables()\n",
    "        self.generateConstraints()\n",
    "        self.generateObjective()\n",
    "        self.model.update()\n",
    "\n",
    "    def generateVariables(self):\n",
    "        self.x = self.model.addVars([self.index], self.days, self.shifts, vtype=gu.GRB.BINARY, name='x')\n",
    "        self.y = self.model.addVars([self.index], self.days, vtype=gu.GRB.BINARY, name='y')\n",
    "        self.mood = self.model.addVars([self.index], self.days, vtype=gu.GRB.CONTINUOUS, lb=0, name='mood')\n",
    "        self.motivation = self.model.addVars([self.index], self.days, self.shifts, [self.itr], vtype=gu.GRB.CONTINUOUS, lb=0, name='motivation')\n",
    "\n",
    "    def generateConstraints(self):\n",
    "        for i in [self.index]:\n",
    "            for t in self.days:\n",
    "                self.model.addLConstr(1 - self.alpha[i, t] == self.mood[i, t])\n",
    "                self.model.addLConstr(self.y[i, t] == quicksum(self.x[i, t, s] for s in self.shifts))\n",
    "                self.model.addLConstr(gu.quicksum(self.x[i, t, s] for s in self.shifts) <= 1)\n",
    "                for s in self.shifts:\n",
    "                    self.model.addLConstr(\n",
    "                        self.motivation[i, t, s, self.itr] >= self.mood[i, t] - self.M * (1 - self.x[i, t, s]))\n",
    "                    self.model.addLConstr(\n",
    "                        self.motivation[i, t, s, self.itr] <= self.mood[i, t] + self.M * (1 - self.x[i, t, s]))\n",
    "                    self.model.addLConstr(self.motivation[i, t, s, self.itr] <= self.x[i, t, s])\n",
    "            for t in range(1, len(self.days) - self.Max + 1):\n",
    "                self.model.addLConstr(gu.quicksum(self.y[i, u] for u in range(t, t + 1 + self.Max)) <= self.Max)\n",
    "            self.model.addLConstr(self.Min <= quicksum(self.y[i, t] for t in self.days))\n",
    "\n",
    "    def generateObjective(self):\n",
    "        self.model.setObjective(\n",
    "            0 - gu.quicksum(self.motivation[i, t, s, self.itr] * self.duals_ts[t, s] for i in [self.index] for t in self.days for s in self.shifts) -\n",
    "            self.duals_i[self.index], sense=gu.GRB.MINIMIZE)\n",
    "\n",
    "    def getNewSchedule(self):\n",
    "        return self.model.getAttr(\"X\", self.motivation)\n",
    "\n",
    "    def getOptX(self):\n",
    "        vals_opt = self.model.getAttr(\"X\", self.x)\n",
    "        vals_list = []\n",
    "        for vals in vals_opt.values():\n",
    "            vals_list.append(vals)\n",
    "        return vals_list\n",
    "\n",
    "    def getStatus(self):\n",
    "        return self.model.status\n",
    "\n",
    "    def solveModel(self, timeLimit):\n",
    "        try:\n",
    "            self.model.setParam('TimeLimit', timeLimit)\n",
    "            self.model.Params.OutputFlag = 0\n",
    "            self.model.Params.IntegralityFocus = 1\n",
    "            self.model.Params.FeasibilityTol = 1e-9\n",
    "            self.model.Params.BarConvTol = 0.0\n",
    "            self.model.Params.MIPGap = 1e-2\n",
    "            self.model.optimize()\n",
    "        except gu.GurobiError as e:\n",
    "            print('Error code ' + str(e.errno) + ': ' + str(e))"
   ]
  },
  {
   "cell_type": "markdown",
   "metadata": {},
   "source": [
    "### Column generation algorithm\n",
    "\n",
    "#### Build master problem"
   ]
  },
  {
   "cell_type": "code",
   "execution_count": 23,
   "metadata": {},
   "outputs": [
    {
     "name": "stdout",
     "output_type": "stream",
     "text": [
      "****************************************************************************************************\n",
      "*                          Restricted Master Problem successfully built!                           *\n",
      "****************************************************************************************************\n"
     ]
    }
   ],
   "source": [
    "master = MasterProblem(data, demand_dict, max_itr, itr, last_itr, output_len)\n",
    "master.buildModel()\n",
    "print(\"*\" * (output_len + 2))\n",
    "print(\"*{:^{output_len}}*\".format(\"Restricted Master Problem successfully built!\", output_len=output_len))\n",
    "print(\"*\" * (output_len + 2))"
   ]
  },
  {
   "cell_type": "markdown",
   "metadata": {},
   "source": [
    "#### Solve relaxed model and retrive dual values"
   ]
  },
  {
   "cell_type": "code",
   "execution_count": 28,
   "metadata": {},
   "outputs": [
    {
     "name": "stdout",
     "output_type": "stream",
     "text": [
      "Gurobi Optimizer version 11.0.0 build v11.0.0rc2 (win64 - Windows 10.0 (19045.2))\n",
      "\n",
      "CPU model: 13th Gen Intel(R) Core(TM) i7-1355U, instruction set [SSE2|AVX|AVX2]\n",
      "Thread count: 10 physical cores, 12 logical processors, using up to 12 threads\n",
      "\n",
      "Optimize a model with 192 rows, 747 columns and 192 nonzeros\n",
      "Model fingerprint: 0x86a17984\n",
      "Model has 21 quadratic constraints\n",
      "Coefficient statistics:\n",
      "  Matrix range     [1e+00, 1e+00]\n",
      "  QMatrix range    [1e+00, 1e+00]\n",
      "  QLMatrix range   [1e+00, 1e+00]\n",
      "  Objective range  [1e+00, 1e+00]\n",
      "  Bounds range     [1e+00, 1e+00]\n",
      "  RHS range        [1e+00, 1e+00]\n",
      "  QRHS range       [1e+00, 3e+00]\n",
      "Presolve removed 192 rows and 732 columns\n",
      "Presolve time: 0.01s\n",
      "Presolved: 15 rows, 15 columns, 15 nonzeros\n",
      "Ordering time: 0.00s\n",
      "\n",
      "Barrier statistics:\n",
      " AA' NZ     : 0.000e+00\n",
      " Factor NZ  : 1.500e+01\n",
      " Factor Ops : 1.500e+01 (less than 1 second per iteration)\n",
      " Threads    : 1\n",
      "\n",
      "                  Objective                Residual\n",
      "Iter       Primal          Dual         Primal    Dual     Compl     Time\n",
      "   0   6.11250000e+01  1.05000000e+01  0.00e+00 0.00e+00  3.03e+00     0s\n",
      "   1   2.57694735e+01  1.52181703e+01  0.00e+00 0.00e+00  3.52e-01     0s\n",
      "   2   2.10739792e+01  2.05520014e+01  0.00e+00 2.78e-17  1.74e-02     0s\n",
      "   3   2.10001100e+01  2.09995541e+01  0.00e+00 4.45e-17  1.85e-05     0s\n",
      "   4   2.10000001e+01  2.09999996e+01  0.00e+00 5.35e-17  1.85e-08     0s\n",
      "   5   2.10000000e+01  2.10000000e+01  0.00e+00 2.54e-17  1.85e-11     0s\n",
      "\n",
      "Barrier solved model in 5 iterations and 0.02 seconds (0.00 work units)\n",
      "Optimal objective 2.10000000e+01\n",
      "\n",
      "Solving KKT system to obtain QCP duals...\n",
      "\n"
     ]
    }
   ],
   "source": [
    "# Initialize and solve relaxed model\n",
    "master.setStartSolution()\n",
    "master.updateModel()\n",
    "master.solveRelaxModel()\n",
    "\n",
    "# Retrieve dual values\n",
    "duals_i0 = master.getDuals_i()\n",
    "duals_ts0 = master.getDuals_ts()\n",
    "\n",
    "# Start time count\n",
    "t0 = time.time()"
   ]
  },
  {
   "cell_type": "markdown",
   "metadata": {},
   "source": [
    "#### Column generation"
   ]
  },
  {
   "cell_type": "code",
   "execution_count": 34,
   "metadata": {},
   "outputs": [],
   "source": [
    "while (modelImprovable) and itr < max_itr:\n",
    "    # Start\n",
    "    itr += 1\n",
    "\n",
    "    # Solve RMP\n",
    "    master.current_iteration = itr + 1\n",
    "    master.solveRelaxModel()\n",
    "    objValHistRMP.append(master.model.objval)\n",
    "\n",
    "    # Get Duals\n",
    "    duals_i = master.getDuals_i()\n",
    "    duals_ts = master.getDuals_ts()\n",
    "\n",
    "    # Save current optimality gap\n",
    "    gap_rc = round(((round(master.model.objval, 3) - round(obj_val_problem, 3)) / round(master.model.objval, 3)), 3)\n",
    "    gap_rc_hist.append(gap_rc)\n",
    "\n",
    "    # Solve SPs\n",
    "    modelImprovable = False\n",
    "    for index in I:\n",
    "        # Build SP\n",
    "        subproblem = Subproblem(duals_i, duals_ts, data, index, 1e6, itr, gen_alpha(seed))\n",
    "        subproblem.buildModel()\n",
    "\n",
    "        # Save time to solve SP\n",
    "        sub_t0 = time.time()\n",
    "        subproblem.solveModel(time_Limit)\n",
    "        sub_totaltime = time.time() - sub_t0\n",
    "        timeHist.append(sub_totaltime)\n",
    "\n",
    "        # Get optimal values\n",
    "        optx_values = subproblem.getOptX()\n",
    "        Iter_schedules[f\"Nurse_{index}\"].append(optx_values)\n",
    "\n",
    "        # Check if SP is solvable\n",
    "        status = subproblem.getStatus()\n",
    "        if status != 2:\n",
    "            raise Exception(\"*{:^{output_len}}*\".format(\"Pricing-Problem can not reach optimality!\", output_len=output_len))\n",
    "\n",
    "        # Save ObjVal History\n",
    "        reducedCost = subproblem.model.objval\n",
    "        objValHistSP.append(reducedCost)\n",
    "\n",
    "        # Increase latest used iteration\n",
    "        last_itr = itr + 1\n",
    "\n",
    "        # Generate and add columns with reduced cost\n",
    "        if reducedCost < -1e-6:\n",
    "            Schedules = subproblem.getNewSchedule()\n",
    "            master.addColumn(index, itr, Schedules)\n",
    "            master.addLambda(index, itr)\n",
    "            master.updateModel()\n",
    "            modelImprovable = True\n",
    "\n",
    "    # Update Model\n",
    "    master.updateModel()\n",
    "\n",
    "    # Calculate Metrics\n",
    "    avg_rc = sum(objValHistSP) / len(objValHistSP)\n",
    "    avg_rc_hist.append(avg_rc)\n",
    "    objValHistSP.clear()\n",
    "\n",
    "    avg_time = sum(timeHist)/len(timeHist)\n",
    "    avg_sp_time.append(avg_time)\n",
    "    timeHist.clear()\n",
    "\n",
    "    print(\"*{:^{output_len}}*\".format(f\"End CG iteration {itr}\", output_len=output_len))\n",
    "\n",
    "    if not modelImprovable:\n",
    "        print(\"*{:^{output_len}}*\".format(\"No more improvable columns found.\", output_len=output_len))"
   ]
  },
  {
   "cell_type": "markdown",
   "metadata": {},
   "source": [
    "#### Final solve of the RMP"
   ]
  },
  {
   "cell_type": "code",
   "execution_count": 35,
   "metadata": {},
   "outputs": [
    {
     "name": "stdout",
     "output_type": "stream",
     "text": [
      "Gurobi Optimizer version 11.0.0 build v11.0.0rc2 (win64 - Windows 10.0 (19045.2))\n",
      "\n",
      "CPU model: 13th Gen Intel(R) Core(TM) i7-1355U, instruction set [SSE2|AVX|AVX2]\n",
      "Thread count: 10 physical cores, 12 logical processors, using up to 12 threads\n",
      "\n",
      "Optimize a model with 192 rows, 747 columns and 201 nonzeros\n",
      "Model fingerprint: 0xe483ad8e\n",
      "Model has 21 quadratic constraints\n",
      "Variable types: 714 continuous, 33 integer (33 binary)\n",
      "Coefficient statistics:\n",
      "  Matrix range     [1e+00, 1e+00]\n",
      "  QMatrix range    [1e+00, 1e+00]\n",
      "  QLMatrix range   [9e-02, 1e+00]\n",
      "  Objective range  [1e+00, 1e+00]\n",
      "  Bounds range     [1e+00, 1e+00]\n",
      "  RHS range        [1e+00, 1e+00]\n",
      "  QRHS range       [1e+00, 3e+00]\n",
      "\n",
      "MIP start from previous solve produced solution with objective 7.9 (0.01s)\n",
      "Loaded MIP start from previous solve with objective 7.9\n",
      "\n",
      "Presolve removed 175 rows and 724 columns\n",
      "Presolve time: 0.00s\n",
      "Presolved: 17 rows, 23 columns, 68 nonzeros\n",
      "Variable types: 10 continuous, 13 integer (9 binary)\n",
      "\n",
      "Root relaxation: cutoff, 24 iterations, 0.00 seconds (0.00 work units)\n",
      "\n",
      "    Nodes    |    Current Node    |     Objective Bounds      |     Work\n",
      " Expl Unexpl |  Obj  Depth IntInf | Incumbent    BestBd   Gap | It/Node Time\n",
      "\n",
      "     0     0     cutoff    0         7.90000    7.90000  0.00%     -    0s\n",
      "\n",
      "Explored 1 nodes (24 simplex iterations) in 0.02 seconds (0.00 work units)\n",
      "Thread count was 12 (of 12 available processors)\n",
      "\n",
      "Solution count 1: 7.9 \n",
      "\n",
      "Optimal solution found (tolerance 1.00e-02)\n",
      "Best objective 7.900000000000e+00, best bound 7.900000000000e+00, gap 0.0000%\n",
      "****************************************************************************************************\n",
      "*                                ***** Optimal solution found *****                                *\n",
      "*                                                                                                  *\n"
     ]
    }
   ],
   "source": [
    "# Solve Master Problem with integrality restored\n",
    "master.finalSolve(time_Limit)\n",
    "\n",
    "# Capture total time and objval\n",
    "total_time_cg = time.time() - t0\n",
    "final_obj_cg = master.model.objval"
   ]
  },
  {
   "cell_type": "markdown",
   "metadata": {},
   "source": [
    "### Results"
   ]
  },
  {
   "cell_type": "code",
   "execution_count": 37,
   "metadata": {},
   "outputs": [
    {
     "name": "stdout",
     "output_type": "stream",
     "text": [
      "****************************************************************************************************\n",
      "*                                       ***** Results *****                                        *\n",
      "*                                                                                                  *\n",
      "*                                      Total CG iterations: 4                                      *\n",
      "*                               Total elapsed time: 191.324 seconds                                *\n",
      "*                                      Final CG solution: 7.9                                      *\n",
      "*                                                                                                  *\n",
      "*                       The optimal solution found by compact solver is: 7.9                       *\n",
      "*                       The optimal solution found by the CG solver is: 7.9                        *\n",
      "*                                    The Optimality-GAP is 0.0%                                    *\n",
      "*                                                                                                  *\n",
      "****************************************************************************************************\n"
     ]
    }
   ],
   "source": [
    "# Define function\n",
    "def printResults(itr, total_time, time_problem, obj_val_problem, final_obj_cg, nr):\n",
    "    print(\"*\" * (nr + 2))\n",
    "    print(\"*{:^{nr}}*\".format(\"***** Results *****\", nr=nr))\n",
    "    print(\"*{:^{nr}}*\".format(\"\", nr=nr))\n",
    "    print(\"*{:^{nr}}*\".format(\"Total CG iterations: \" + str(itr), nr=nr))\n",
    "    print(\"*{:^{nr}}*\".format(\"Total elapsed time: \" + str(round((total_time), 4)) + \" seconds\", nr=nr))\n",
    "    print(\"*{:^{nr}}*\".format(\"Final CG solution: \" + str(round(final_obj_cg, 3)), nr=nr))\n",
    "    print(\"*{:^{nr}}*\".format(\"\", nr=nr))\n",
    "    print(\"*{:^{nr}}*\".format(\"The optimal solution found by compact solver is: \" + str(round(obj_val_problem, 3)), nr=nr))\n",
    "    print(\"*{:^{nr}}*\".format(\"The optimal solution found by the CG solver is: \" + str(round(final_obj_cg, 3)), nr=nr))\n",
    "    gap = round(((round(final_obj_cg, 3)-round(obj_val_problem, 3))/round(final_obj_cg, 1))*100, 3)\n",
    "    gap_str = f\"{gap}%\"\n",
    "    if round(final_obj_cg, 3)-round(obj_val_problem, 3) == 0:\n",
    "        print(\"*{:^{nr}}*\".format(\"The Optimality-GAP is \" + str(gap_str), nr=nr))\n",
    "    else:\n",
    "        print(\"*{:^{nr}}*\".format(\"The Optimality-GAP is \" + str(gap_str), nr=nr))\n",
    "        print(\"*{:^{nr}}*\".format(\"CG does not provide the global optimal solution!\", nr=nr))\n",
    "    print(\"*{:^{nr}}*\".format(\"\", nr=nr))\n",
    "    print(\"*\" * (nr + 2))\n",
    "\n",
    "printResults(itr, total_time_cg, time_problem, obj_val_problem, final_obj_cg, output_len)"
   ]
  },
  {
   "cell_type": "markdown",
   "metadata": {},
   "source": [
    "### Plots"
   ]
  },
  {
   "cell_type": "code",
   "execution_count": 40,
   "metadata": {},
   "outputs": [
    {
     "data": {
      "image/png": "[encoded data removed]",
      "text/plain": [
       "<Figure size 640x480 with 1 Axes>"
      ]
     },
     "metadata": {},
     "output_type": "display_data"
    },
    {
     "data": {
      "image/png": "[encoded data removed]",
      "text/plain": [
       "<Figure size 640x480 with 1 Axes>"
      ]
     },
     "metadata": {},
     "output_type": "display_data"
    },
    {
     "data": {
      "image/png": "[encoded data removed]",
      "text/plain": [
       "<Figure size 1000x500 with 2 Axes>"
      ]
     },
     "metadata": {},
     "output_type": "display_data"
    }
   ],
   "source": [
    "import seaborn as sns\n",
    "import pandas as pd\n",
    "import numpy as np\n",
    "import plotly.express as px\n",
    "from matplotlib.ticker import PercentFormatter, MaxNLocator\n",
    "import itertools\n",
    "import os\n",
    "import matplotlib.pyplot as plt\n",
    "\n",
    "def plot_obj_val(objValHistRMP):\n",
    "    sns.set(style='darkgrid')\n",
    "    sns.scatterplot(x=list(range(len(objValHistRMP))), y=objValHistRMP, marker='o')\n",
    "    sns.lineplot(x=list(range(len(objValHistRMP))), y=objValHistRMP)\n",
    "    plt.xlabel('CG Iterations')\n",
    "    plt.xticks(range(0, len(objValHistRMP)))\n",
    "    plt.ylabel('Objective function value')\n",
    "    title = 'Optimal objective value: ' + str(round(objValHistRMP[-1], 2))\n",
    "    plt.title(title)\n",
    "    plt.show()\n",
    "\n",
    "def plot_avg_rc(avg_rc_hist):\n",
    "    sns.set(style='darkgrid')\n",
    "    sns.scatterplot(x=list(range(1, len(avg_rc_hist) + 1)), y=avg_rc_hist, marker='o')\n",
    "    sns.lineplot(x=list(range(1, len(avg_rc_hist) + 1)), y=avg_rc_hist)\n",
    "    plt.xlabel('CG Iterations')\n",
    "    plt.xticks(range(1, len(avg_rc_hist)+1))\n",
    "    plt.ylabel('Reduced Cost')\n",
    "    title = 'Final reduced cost: ' + str(round(avg_rc_hist[-1], 2))\n",
    "    plt.title(title)\n",
    "    plt.show()\n",
    "\n",
    "def plot_together(objValHistRMP, avg_rc_hist):\n",
    "    fig, axs = plt.subplots(1, 2, figsize=(10, 5))\n",
    "    sns.scatterplot(x=list(range(len(objValHistRMP))), y=objValHistRMP, marker='o', ax=axs[0])\n",
    "    sns.lineplot(x=list(range(len(objValHistRMP))), y=objValHistRMP, ax=axs[0])\n",
    "    axs[0].set_xlabel('CG Iterations')\n",
    "    axs[0].set_xticks(range(0, len(objValHistRMP)))\n",
    "    axs[0].set_ylabel('Objective function value')\n",
    "    title = 'Optimal objective value: ' + str(round(objValHistRMP[-1], 2))\n",
    "    axs[0].set_title(title)\n",
    "\n",
    "    sns.scatterplot(x=list(range(1, len(avg_rc_hist) + 1)), y=avg_rc_hist, marker='o', ax=axs[1])\n",
    "    sns.lineplot(x=list(range(1, len(avg_rc_hist) + 1)), y=avg_rc_hist, ax=axs[1])\n",
    "    axs[1].set_xlabel('CG Iterations')\n",
    "    axs[1].set_xticks(range(1, len(avg_rc_hist)+1))\n",
    "    axs[1].set_ylabel('Reduced Cost')\n",
    "    title = 'Final reduced cost: ' + str(round(avg_rc_hist[-1], 2))\n",
    "    axs[1].set_title(title)\n",
    "\n",
    "    plt.show()\n",
    "\n",
    "# Print Plots\n",
    "plot_obj_val(objValHistRMP)\n",
    "plot_avg_rc(avg_rc_hist)\n",
    "plot_together(objValHistRMP, avg_rc_hist)"
   ]
  },
  {
   "cell_type": "markdown",
   "metadata": {},
   "source": [
    "## "
   ]
  }
 ],
 "metadata": {
  "kernelspec": {
   "display_name": "Python 3",
   "language": "python",
   "name": "python3"
  },
  "language_info": {
   "codemirror_mode": {
    "name": "ipython",
    "version": 3
   },
   "file_extension": ".py",
   "mimetype": "text/x-python",
   "name": "python",
   "nbconvert_exporter": "python",
   "pygments_lexer": "ipython3",
   "version": "3.12.0"
  }
 },
 "nbformat": 4,
 "nbformat_minor": 4
}
